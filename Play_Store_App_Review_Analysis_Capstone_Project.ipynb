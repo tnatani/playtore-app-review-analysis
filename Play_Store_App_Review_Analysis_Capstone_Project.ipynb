{
  "nbformat": 4,
  "nbformat_minor": 0,
  "metadata": {
    "kernelspec": {
      "display_name": "Python 3",
      "language": "python",
      "name": "python3"
    },
    "language_info": {
      "codemirror_mode": {
        "name": "ipython",
        "version": 3
      },
      "file_extension": ".py",
      "mimetype": "text/x-python",
      "name": "python",
      "nbconvert_exporter": "python",
      "pygments_lexer": "ipython3",
      "version": "3.6.6"
    },
    "colab": {
      "name": "Play Store App Review Analysis - Capstone Project.ipynb",
      "provenance": [],
      "collapsed_sections": [],
      "include_colab_link": true
    }
  },
  "cells": [
    {
      "cell_type": "markdown",
      "metadata": {
        "id": "view-in-github",
        "colab_type": "text"
      },
      "source": [
        "<a href=\"https://colab.research.google.com/github/tnatani/playtore-app-review-analysis/blob/main/Play_Store_App_Review_Analysis_Capstone_Project.ipynb\" target=\"_parent\"><img src=\"https://colab.research.google.com/assets/colab-badge.svg\" alt=\"Open In Colab\"/></a>"
      ]
    },
    {
      "cell_type": "markdown",
      "metadata": {
        "id": "Y06xIdG26kRF"
      },
      "source": [
        "## <b> The Play Store apps data has enormous potential to drive app-making businesses to success. Actionable insights can be drawn for developers to work on and capture the Android market. </b>\n",
        "\n",
        "## <b> Each app (row) has values for catergory, rating, size, and more. Another dataset contains customer reviews of the android apps.</b>\n",
        "\n",
        "## <b> Explore and analyze the data to discover key factors responsible for app engagement and success. </b>"
      ]
    },
    {
      "cell_type": "markdown",
      "source": [
        "INTRODUCTION\n",
        "\n",
        "Google Play Store or formerly Android Market, is a digital distribution service developed and operated by Google. It is an official apps store that provides variety content such as apps, books, magazines, music, movies and television programs. It serves an as platform to allow users with 'Google certified' Android operating system devices to download applications developed and published on the platform either with a charge or free of cost. With the rapidly growth of Android devices and apps, it would be interesting to perform data analysis on the data to obtain valuable insights.\n",
        "The tools that are going to be used for this EDA would be numpy, pandas, matplotlib and seaborn which I have learnt from the course."
      ],
      "metadata": {
        "id": "4VnDzLiJd9h_"
      }
    },
    {
      "cell_type": "markdown",
      "source": [
        "DATA PREPARATION AND CLEANING \n",
        "\n",
        "In this section, we will be loading the Google Store Apps data stored in csv using pandas which is a fast and powerful python library for data analysis and easy data manipulation in pandas DataFrame object. It is usually used for working with tabular data (e.g data in spreadsheet) in various formats such as CSV, Excel spreadsheets, HTML tables, JSON etc. We will then perform some data preparation and also cleaning on it."
      ],
      "metadata": {
        "id": "y9TXUKuCeoxa"
      }
    },
    {
      "cell_type": "code",
      "metadata": {
        "id": "dByMsuzT8Tnw"
      },
      "source": [
        "# import the necessary libraries\n",
        "import numpy as np\n",
        "import pandas as pd\n",
        "import matplotlib.pyplot as plt\n",
        "import seaborn as sns\n",
        "%matplotlib inline "
      ],
      "execution_count": 3,
      "outputs": []
    },
    {
      "cell_type": "code",
      "source": [
        "from google.colab import drive\n",
        "drive.mount('/content/drive')"
      ],
      "metadata": {
        "colab": {
          "base_uri": "https://localhost:8080/"
        },
        "id": "GcbdRFXthyRe",
        "outputId": "cf9077ed-b96e-4951-ffcf-476d98628c40"
      },
      "execution_count": 4,
      "outputs": [
        {
          "output_type": "stream",
          "name": "stdout",
          "text": [
            "Drive already mounted at /content/drive; to attempt to forcibly remount, call drive.mount(\"/content/drive\", force_remount=True).\n"
          ]
        }
      ]
    },
    {
      "cell_type": "code",
      "source": [
        "# load the apps and reviews data into pandas dataframe\n",
        "apps_df = pd.read_csv('/content/drive/MyDrive/Almabetter /Play Store Data.csv')"
      ],
      "metadata": {
        "id": "ZMSUVXKriRJk"
      },
      "execution_count": 5,
      "outputs": []
    },
    {
      "cell_type": "code",
      "source": [
        "# look at the first 10 records in the apps dataframe\n",
        "apps_df.head(10)"
      ],
      "metadata": {
        "id": "METXjo8MkAj-",
        "colab": {
          "base_uri": "https://localhost:8080/",
          "height": 581
        },
        "outputId": "0d066ad9-ca06-48d2-e558-d207b27939de"
      },
      "execution_count": 6,
      "outputs": [
        {
          "output_type": "execute_result",
          "data": {
            "text/html": [
              "\n",
              "  <div id=\"df-0c045cf8-50b9-4a87-863d-bbfaff6c7616\">\n",
              "    <div class=\"colab-df-container\">\n",
              "      <div>\n",
              "<style scoped>\n",
              "    .dataframe tbody tr th:only-of-type {\n",
              "        vertical-align: middle;\n",
              "    }\n",
              "\n",
              "    .dataframe tbody tr th {\n",
              "        vertical-align: top;\n",
              "    }\n",
              "\n",
              "    .dataframe thead th {\n",
              "        text-align: right;\n",
              "    }\n",
              "</style>\n",
              "<table border=\"1\" class=\"dataframe\">\n",
              "  <thead>\n",
              "    <tr style=\"text-align: right;\">\n",
              "      <th></th>\n",
              "      <th>App</th>\n",
              "      <th>Category</th>\n",
              "      <th>Rating</th>\n",
              "      <th>Reviews</th>\n",
              "      <th>Size</th>\n",
              "      <th>Installs</th>\n",
              "      <th>Type</th>\n",
              "      <th>Price</th>\n",
              "      <th>Content Rating</th>\n",
              "      <th>Genres</th>\n",
              "      <th>Last Updated</th>\n",
              "      <th>Current Ver</th>\n",
              "      <th>Android Ver</th>\n",
              "    </tr>\n",
              "  </thead>\n",
              "  <tbody>\n",
              "    <tr>\n",
              "      <th>0</th>\n",
              "      <td>Photo Editor &amp; Candy Camera &amp; Grid &amp; ScrapBook</td>\n",
              "      <td>ART_AND_DESIGN</td>\n",
              "      <td>4.1</td>\n",
              "      <td>159</td>\n",
              "      <td>19M</td>\n",
              "      <td>10,000+</td>\n",
              "      <td>Free</td>\n",
              "      <td>0</td>\n",
              "      <td>Everyone</td>\n",
              "      <td>Art &amp; Design</td>\n",
              "      <td>January 7, 2018</td>\n",
              "      <td>1.0.0</td>\n",
              "      <td>4.0.3 and up</td>\n",
              "    </tr>\n",
              "    <tr>\n",
              "      <th>1</th>\n",
              "      <td>Coloring book moana</td>\n",
              "      <td>ART_AND_DESIGN</td>\n",
              "      <td>3.9</td>\n",
              "      <td>967</td>\n",
              "      <td>14M</td>\n",
              "      <td>500,000+</td>\n",
              "      <td>Free</td>\n",
              "      <td>0</td>\n",
              "      <td>Everyone</td>\n",
              "      <td>Art &amp; Design;Pretend Play</td>\n",
              "      <td>January 15, 2018</td>\n",
              "      <td>2.0.0</td>\n",
              "      <td>4.0.3 and up</td>\n",
              "    </tr>\n",
              "    <tr>\n",
              "      <th>2</th>\n",
              "      <td>U Launcher Lite – FREE Live Cool Themes, Hide ...</td>\n",
              "      <td>ART_AND_DESIGN</td>\n",
              "      <td>4.7</td>\n",
              "      <td>87510</td>\n",
              "      <td>8.7M</td>\n",
              "      <td>5,000,000+</td>\n",
              "      <td>Free</td>\n",
              "      <td>0</td>\n",
              "      <td>Everyone</td>\n",
              "      <td>Art &amp; Design</td>\n",
              "      <td>August 1, 2018</td>\n",
              "      <td>1.2.4</td>\n",
              "      <td>4.0.3 and up</td>\n",
              "    </tr>\n",
              "    <tr>\n",
              "      <th>3</th>\n",
              "      <td>Sketch - Draw &amp; Paint</td>\n",
              "      <td>ART_AND_DESIGN</td>\n",
              "      <td>4.5</td>\n",
              "      <td>215644</td>\n",
              "      <td>25M</td>\n",
              "      <td>50,000,000+</td>\n",
              "      <td>Free</td>\n",
              "      <td>0</td>\n",
              "      <td>Teen</td>\n",
              "      <td>Art &amp; Design</td>\n",
              "      <td>June 8, 2018</td>\n",
              "      <td>Varies with device</td>\n",
              "      <td>4.2 and up</td>\n",
              "    </tr>\n",
              "    <tr>\n",
              "      <th>4</th>\n",
              "      <td>Pixel Draw - Number Art Coloring Book</td>\n",
              "      <td>ART_AND_DESIGN</td>\n",
              "      <td>4.3</td>\n",
              "      <td>967</td>\n",
              "      <td>2.8M</td>\n",
              "      <td>100,000+</td>\n",
              "      <td>Free</td>\n",
              "      <td>0</td>\n",
              "      <td>Everyone</td>\n",
              "      <td>Art &amp; Design;Creativity</td>\n",
              "      <td>June 20, 2018</td>\n",
              "      <td>1.1</td>\n",
              "      <td>4.4 and up</td>\n",
              "    </tr>\n",
              "    <tr>\n",
              "      <th>5</th>\n",
              "      <td>Paper flowers instructions</td>\n",
              "      <td>ART_AND_DESIGN</td>\n",
              "      <td>4.4</td>\n",
              "      <td>167</td>\n",
              "      <td>5.6M</td>\n",
              "      <td>50,000+</td>\n",
              "      <td>Free</td>\n",
              "      <td>0</td>\n",
              "      <td>Everyone</td>\n",
              "      <td>Art &amp; Design</td>\n",
              "      <td>March 26, 2017</td>\n",
              "      <td>1.0</td>\n",
              "      <td>2.3 and up</td>\n",
              "    </tr>\n",
              "    <tr>\n",
              "      <th>6</th>\n",
              "      <td>Smoke Effect Photo Maker - Smoke Editor</td>\n",
              "      <td>ART_AND_DESIGN</td>\n",
              "      <td>3.8</td>\n",
              "      <td>178</td>\n",
              "      <td>19M</td>\n",
              "      <td>50,000+</td>\n",
              "      <td>Free</td>\n",
              "      <td>0</td>\n",
              "      <td>Everyone</td>\n",
              "      <td>Art &amp; Design</td>\n",
              "      <td>April 26, 2018</td>\n",
              "      <td>1.1</td>\n",
              "      <td>4.0.3 and up</td>\n",
              "    </tr>\n",
              "    <tr>\n",
              "      <th>7</th>\n",
              "      <td>Infinite Painter</td>\n",
              "      <td>ART_AND_DESIGN</td>\n",
              "      <td>4.1</td>\n",
              "      <td>36815</td>\n",
              "      <td>29M</td>\n",
              "      <td>1,000,000+</td>\n",
              "      <td>Free</td>\n",
              "      <td>0</td>\n",
              "      <td>Everyone</td>\n",
              "      <td>Art &amp; Design</td>\n",
              "      <td>June 14, 2018</td>\n",
              "      <td>6.1.61.1</td>\n",
              "      <td>4.2 and up</td>\n",
              "    </tr>\n",
              "    <tr>\n",
              "      <th>8</th>\n",
              "      <td>Garden Coloring Book</td>\n",
              "      <td>ART_AND_DESIGN</td>\n",
              "      <td>4.4</td>\n",
              "      <td>13791</td>\n",
              "      <td>33M</td>\n",
              "      <td>1,000,000+</td>\n",
              "      <td>Free</td>\n",
              "      <td>0</td>\n",
              "      <td>Everyone</td>\n",
              "      <td>Art &amp; Design</td>\n",
              "      <td>September 20, 2017</td>\n",
              "      <td>2.9.2</td>\n",
              "      <td>3.0 and up</td>\n",
              "    </tr>\n",
              "    <tr>\n",
              "      <th>9</th>\n",
              "      <td>Kids Paint Free - Drawing Fun</td>\n",
              "      <td>ART_AND_DESIGN</td>\n",
              "      <td>4.7</td>\n",
              "      <td>121</td>\n",
              "      <td>3.1M</td>\n",
              "      <td>10,000+</td>\n",
              "      <td>Free</td>\n",
              "      <td>0</td>\n",
              "      <td>Everyone</td>\n",
              "      <td>Art &amp; Design;Creativity</td>\n",
              "      <td>July 3, 2018</td>\n",
              "      <td>2.8</td>\n",
              "      <td>4.0.3 and up</td>\n",
              "    </tr>\n",
              "  </tbody>\n",
              "</table>\n",
              "</div>\n",
              "      <button class=\"colab-df-convert\" onclick=\"convertToInteractive('df-0c045cf8-50b9-4a87-863d-bbfaff6c7616')\"\n",
              "              title=\"Convert this dataframe to an interactive table.\"\n",
              "              style=\"display:none;\">\n",
              "        \n",
              "  <svg xmlns=\"http://www.w3.org/2000/svg\" height=\"24px\"viewBox=\"0 0 24 24\"\n",
              "       width=\"24px\">\n",
              "    <path d=\"M0 0h24v24H0V0z\" fill=\"none\"/>\n",
              "    <path d=\"M18.56 5.44l.94 2.06.94-2.06 2.06-.94-2.06-.94-.94-2.06-.94 2.06-2.06.94zm-11 1L8.5 8.5l.94-2.06 2.06-.94-2.06-.94L8.5 2.5l-.94 2.06-2.06.94zm10 10l.94 2.06.94-2.06 2.06-.94-2.06-.94-.94-2.06-.94 2.06-2.06.94z\"/><path d=\"M17.41 7.96l-1.37-1.37c-.4-.4-.92-.59-1.43-.59-.52 0-1.04.2-1.43.59L10.3 9.45l-7.72 7.72c-.78.78-.78 2.05 0 2.83L4 21.41c.39.39.9.59 1.41.59.51 0 1.02-.2 1.41-.59l7.78-7.78 2.81-2.81c.8-.78.8-2.07 0-2.86zM5.41 20L4 18.59l7.72-7.72 1.47 1.35L5.41 20z\"/>\n",
              "  </svg>\n",
              "      </button>\n",
              "      \n",
              "  <style>\n",
              "    .colab-df-container {\n",
              "      display:flex;\n",
              "      flex-wrap:wrap;\n",
              "      gap: 12px;\n",
              "    }\n",
              "\n",
              "    .colab-df-convert {\n",
              "      background-color: #E8F0FE;\n",
              "      border: none;\n",
              "      border-radius: 50%;\n",
              "      cursor: pointer;\n",
              "      display: none;\n",
              "      fill: #1967D2;\n",
              "      height: 32px;\n",
              "      padding: 0 0 0 0;\n",
              "      width: 32px;\n",
              "    }\n",
              "\n",
              "    .colab-df-convert:hover {\n",
              "      background-color: #E2EBFA;\n",
              "      box-shadow: 0px 1px 2px rgba(60, 64, 67, 0.3), 0px 1px 3px 1px rgba(60, 64, 67, 0.15);\n",
              "      fill: #174EA6;\n",
              "    }\n",
              "\n",
              "    [theme=dark] .colab-df-convert {\n",
              "      background-color: #3B4455;\n",
              "      fill: #D2E3FC;\n",
              "    }\n",
              "\n",
              "    [theme=dark] .colab-df-convert:hover {\n",
              "      background-color: #434B5C;\n",
              "      box-shadow: 0px 1px 3px 1px rgba(0, 0, 0, 0.15);\n",
              "      filter: drop-shadow(0px 1px 2px rgba(0, 0, 0, 0.3));\n",
              "      fill: #FFFFFF;\n",
              "    }\n",
              "  </style>\n",
              "\n",
              "      <script>\n",
              "        const buttonEl =\n",
              "          document.querySelector('#df-0c045cf8-50b9-4a87-863d-bbfaff6c7616 button.colab-df-convert');\n",
              "        buttonEl.style.display =\n",
              "          google.colab.kernel.accessAllowed ? 'block' : 'none';\n",
              "\n",
              "        async function convertToInteractive(key) {\n",
              "          const element = document.querySelector('#df-0c045cf8-50b9-4a87-863d-bbfaff6c7616');\n",
              "          const dataTable =\n",
              "            await google.colab.kernel.invokeFunction('convertToInteractive',\n",
              "                                                     [key], {});\n",
              "          if (!dataTable) return;\n",
              "\n",
              "          const docLinkHtml = 'Like what you see? Visit the ' +\n",
              "            '<a target=\"_blank\" href=https://colab.research.google.com/notebooks/data_table.ipynb>data table notebook</a>'\n",
              "            + ' to learn more about interactive tables.';\n",
              "          element.innerHTML = '';\n",
              "          dataTable['output_type'] = 'display_data';\n",
              "          await google.colab.output.renderOutput(dataTable, element);\n",
              "          const docLink = document.createElement('div');\n",
              "          docLink.innerHTML = docLinkHtml;\n",
              "          element.appendChild(docLink);\n",
              "        }\n",
              "      </script>\n",
              "    </div>\n",
              "  </div>\n",
              "  "
            ],
            "text/plain": [
              "                                                 App  ...   Android Ver\n",
              "0     Photo Editor & Candy Camera & Grid & ScrapBook  ...  4.0.3 and up\n",
              "1                                Coloring book moana  ...  4.0.3 and up\n",
              "2  U Launcher Lite – FREE Live Cool Themes, Hide ...  ...  4.0.3 and up\n",
              "3                              Sketch - Draw & Paint  ...    4.2 and up\n",
              "4              Pixel Draw - Number Art Coloring Book  ...    4.4 and up\n",
              "5                         Paper flowers instructions  ...    2.3 and up\n",
              "6            Smoke Effect Photo Maker - Smoke Editor  ...  4.0.3 and up\n",
              "7                                   Infinite Painter  ...    4.2 and up\n",
              "8                               Garden Coloring Book  ...    3.0 and up\n",
              "9                      Kids Paint Free - Drawing Fun  ...  4.0.3 and up\n",
              "\n",
              "[10 rows x 13 columns]"
            ]
          },
          "metadata": {},
          "execution_count": 6
        }
      ]
    },
    {
      "cell_type": "code",
      "source": [
        "# look at the random 10 records in the apps dataframe\n",
        "apps_df.sample(10)"
      ],
      "metadata": {
        "id": "uTHEt_A9kGzR"
      },
      "execution_count": null,
      "outputs": []
    },
    {
      "cell_type": "markdown",
      "source": [
        "DESCRIPTION OF APP DATASET COLUMNS\n",
        "\n",
        "1.App : The name of the app\n",
        "\n",
        "2.Category : The category of the app\n",
        "\n",
        "3.Rating : The rating of the app in the Play Store\n",
        "\n",
        "4.Reviews : The number of reviews of the app\n",
        "\n",
        "5.Size : The size of the app\n",
        "\n",
        "6.Install : The number of installs of the app\n",
        "\n",
        "7.Type : The type of the app (Free/Paid)\n",
        "\n",
        "8.The price of the app (0 if it is Free)\n",
        "\n",
        "9.Content Rating :The appropiate target audience of the app\n",
        "\n",
        "10.Genres: The genre of the app\n",
        "\n",
        "11.Last Updated : The date when the app was last updated\n",
        "\n",
        "12.Current Ver : The current version of the app\n",
        "\n",
        "13.Android Ver : The minimum Android version required to run the app\n"
      ],
      "metadata": {
        "id": "-G7tRu_ykmMn"
      }
    },
    {
      "cell_type": "code",
      "source": [
        "# type of Category\n",
        "apps_df['Category'].unique()"
      ],
      "metadata": {
        "id": "zegB6nA7kx04"
      },
      "execution_count": null,
      "outputs": []
    },
    {
      "cell_type": "code",
      "source": [
        "# type of Type\n",
        "apps_df['Type'].unique()"
      ],
      "metadata": {
        "id": "U7aCyssACS6D"
      },
      "execution_count": null,
      "outputs": []
    },
    {
      "cell_type": "code",
      "source": [
        "# type of Content Rating\n",
        "apps_df['Content Rating'].unique()"
      ],
      "metadata": {
        "id": "Wa0pHiSOCcV2"
      },
      "execution_count": null,
      "outputs": []
    },
    {
      "cell_type": "code",
      "source": [
        "# type of Genres\n",
        "apps_df['Genres'].unique()"
      ],
      "metadata": {
        "id": "PhqoqK7JCdCd"
      },
      "execution_count": null,
      "outputs": []
    },
    {
      "cell_type": "code",
      "source": [
        "# look at the info of the dataframe\n",
        "apps_df.info()"
      ],
      "metadata": {
        "id": "AFQMhsG5CxS3"
      },
      "execution_count": null,
      "outputs": []
    },
    {
      "cell_type": "markdown",
      "source": [
        "By diagnosing the data frame, we know that:\n",
        "\n",
        "1.There are 13 columns of properties with 10841 rows of data.\n",
        "\n",
        "2.Column 'Reviews', 'Size', 'Installs' and 'Price' are in the type of 'object'\n",
        "\n",
        "3.Values of column 'Size' are strings representing size in 'M' as Megabytes, 'k' as kilobytes and also 'Varies with devices'.\n",
        "\n",
        "4.Values of column 'Installs' are strings representing install amount with symbols such as ',' and '+'.\n",
        "\n",
        "5.Values of column 'Price' are strings representing price with symbol '$'.Hence, we will need to do some data cleaning."
      ],
      "metadata": {
        "id": "8LPPw-yUC32R"
      }
    },
    {
      "cell_type": "markdown",
      "source": [
        "Some Data Cleaning"
      ],
      "metadata": {
        "id": "x1Oqy6REsIsX"
      }
    },
    {
      "cell_type": "code",
      "source": [
        "# 1) clean the 'Reviews' data and change the type 'object' to 'float'\n",
        "reviews = [i for i in apps_df['Reviews']]\n",
        "\n",
        "def clean_reviews(reviews_list):\n",
        "    \"\"\"\n",
        "    As 'M' has been found the in reviews data, this function\n",
        "    replace it with million\n",
        "    \"\"\"\n",
        "    cleaned_data = []\n",
        "    for review in reviews_list:\n",
        "        if 'M' in review:\n",
        "            review = review.replace('M', '')\n",
        "            review = float(review) * 1000000  # 1M = 1,000,000\n",
        "        cleaned_data.append(review)\n",
        "    return cleaned_data\n",
        "\n",
        "apps_df['Reviews'] = clean_reviews(reviews)\n",
        "apps_df['Reviews'] = apps_df['Reviews'].astype(float)"
      ],
      "metadata": {
        "id": "h9_MKMjZsM2s"
      },
      "execution_count": null,
      "outputs": []
    },
    {
      "cell_type": "code",
      "source": [
        "# 2) clean the 'Size' data and change the type 'object' to 'float'\n",
        "\n",
        "# found value with '1,000+' in one of record, remove it from data_frame as uncertain whether it is 'M' or 'k'\n",
        "index = apps_df[apps_df['Size'] == '1,000+'].index\n",
        "apps_df.drop(axis=0, inplace=True, index=index)\n",
        "\n",
        "sizes = [i for i in apps_df['Size']]\n",
        "\n",
        "def clean_sizes(sizes_list):\n",
        "    \"\"\"\n",
        "    As sizes are represented in 'M' and 'k', we remove 'M'\n",
        "    and convert 'k'/kilobytes into megabytes\n",
        "    \"\"\"\n",
        "    cleaned_data = []\n",
        "    for size in sizes_list:\n",
        "        if 'M' in size:\n",
        "            size = size.replace('M', '')\n",
        "            size = float(size)\n",
        "        elif 'k' in size:\n",
        "            size = size.replace('k', '')\n",
        "            size = float(size)\n",
        "            size = size/1024  # 1 megabyte = 1024 kilobytes\n",
        "        # representing 'Varies with device' with value 0\n",
        "        elif 'Varies with device' in size:\n",
        "            size = float(0)\n",
        "        cleaned_data.append(size)\n",
        "    return cleaned_data\n",
        "\n",
        "apps_df['Size'] = clean_sizes(sizes)\n",
        "apps_df['Size'] = apps_df['Size'].astype(float)"
      ],
      "metadata": {
        "id": "jkBBu2JNtRw9"
      },
      "execution_count": null,
      "outputs": []
    },
    {
      "cell_type": "code",
      "source": [
        "# 3) clean the 'Installs' data and change the type 'object' to 'float'\n",
        "installs = [i for i in apps_df['Installs']]\n",
        "\n",
        "def clean_installs(installs_list):\n",
        "    cleaned_data = []\n",
        "    for install in installs_list:\n",
        "        if ',' in install:\n",
        "            install = install.replace(',', '')\n",
        "        if '+' in install:\n",
        "            install = install.replace('+', '')\n",
        "        install = int(install)\n",
        "        cleaned_data.append(install)\n",
        "    return cleaned_data\n",
        "        \n",
        "apps_df['Installs'] = clean_installs(installs)\n",
        "apps_df['Installs'] = apps_df['Installs'].astype(float)"
      ],
      "metadata": {
        "id": "LnuUwTBXuM1O"
      },
      "execution_count": null,
      "outputs": []
    },
    {
      "cell_type": "code",
      "source": [
        "# 4) clean the 'Price' data and change the type 'object' to 'float'\n",
        "prices = [i for i in apps_df['Price']]\n",
        "\n",
        "def clean_prices(prices_list):\n",
        "    cleaned_data = []\n",
        "    for price in prices_list:\n",
        "        if '$' in price:\n",
        "            price = price.replace('$', '')\n",
        "        cleaned_data.append(price)\n",
        "    return cleaned_data\n",
        "\n",
        "apps_df['Price'] = clean_prices(prices)\n",
        "apps_df['Price'] = apps_df['Price'].astype(float)"
      ],
      "metadata": {
        "id": "ISCwbaZxuN1D"
      },
      "execution_count": null,
      "outputs": []
    },
    {
      "cell_type": "code",
      "source": [
        "# look at the random 10 records in the apps dataframe to verify the cleaned columns\n",
        "apps_df.sample(10)"
      ],
      "metadata": {
        "id": "yk6RKD6MuRQH"
      },
      "execution_count": null,
      "outputs": []
    },
    {
      "cell_type": "code",
      "source": [
        "# check on null values\n",
        "apps_df.isna().sum()"
      ],
      "metadata": {
        "id": "1l83noeLuas4"
      },
      "execution_count": null,
      "outputs": []
    },
    {
      "cell_type": "code",
      "source": [
        "# grouping the data starting with App and Reviews\n",
        "apps_df = apps_df.groupby(['App', 'Reviews', 'Category', 'Rating', 'Size', 'Installs', 'Type', 'Price', 'Content Rating', 'Genres', \n",
        "                           'Last Updated', 'Current Ver', 'Android Ver'], as_index=False)\n",
        "# reassign Installs values with their mean\n",
        "apps_df = apps_df['Installs'].mean()\n",
        "# sort the dataframe by Reviews descendingly\n",
        "apps_df.sort_values(by='Reviews', ascending=False, inplace=True)\n",
        "# drop duplicate rows based on App \n",
        "apps_df.drop_duplicates(subset=['App'], inplace=True)\n",
        "apps_df"
      ],
      "metadata": {
        "id": "X9c6CAFtud4Q"
      },
      "execution_count": null,
      "outputs": []
    },
    {
      "cell_type": "code",
      "source": [
        "# check on statistical information of the dataframe\n",
        "apps_df.describe()"
      ],
      "metadata": {
        "id": "l08TX6GGyMra"
      },
      "execution_count": null,
      "outputs": []
    },
    {
      "cell_type": "markdown",
      "source": [
        "Exploratory Analysis and Visualization"
      ],
      "metadata": {
        "id": "op-4VmSxPpPx"
      }
    },
    {
      "cell_type": "markdown",
      "source": [
        "Category\n"
      ],
      "metadata": {
        "id": "E7YHApmn5IYs"
      }
    },
    {
      "cell_type": "code",
      "source": [
        "# get the number of apps for each category\n",
        "sns.set_style('darkgrid')\n",
        "plt.figure(figsize=(10, 5))\n",
        "sns.countplot(x='Category', data=apps_df)\n",
        "plt.title('Number of Apps Per Category')\n",
        "plt.xticks(rotation=90)\n",
        "plt.ylabel('Number of Apps')\n",
        "plt.show()"
      ],
      "metadata": {
        "id": "aB2a-DTA5KiE"
      },
      "execution_count": null,
      "outputs": []
    },
    {
      "cell_type": "markdown",
      "source": [
        "From this distribution plotting of number of installs for each category, we can see that most of the apps being downloaded and installed are from the categories of 'Game' and 'Communication'.\n"
      ],
      "metadata": {
        "id": "O9kSDMnC7Vda"
      }
    },
    {
      "cell_type": "markdown",
      "source": [
        "Rating"
      ],
      "metadata": {
        "id": "vodXPD008pFd"
      }
    },
    {
      "cell_type": "code",
      "source": [
        "# show the distribution of rating\n",
        "plt.figure(figsize=(10, 5))\n",
        "sns.countplot(x='Rating', data=apps_df)\n",
        "plt.title('Rating Distribution')\n",
        "plt.xticks(rotation=90)\n",
        "plt.ylabel('Number of Apps')\n",
        "plt.show()"
      ],
      "metadata": {
        "id": "jm_F_qom8qwG"
      },
      "execution_count": null,
      "outputs": []
    },
    {
      "cell_type": "markdown",
      "source": [
        "From this distribution plotting, it implies that most of the apps in the Play Store are having rating higher than 4 or in the range of 4 to 4.7."
      ],
      "metadata": {
        "id": "zEl1S85Y80O5"
      }
    },
    {
      "cell_type": "code",
      "source": [
        "# plot the graphs of reviews, size, installs and price per rating\n",
        "rating_df = apps_df.groupby('Rating').sum().reset_index()\n",
        "\n",
        "fig, axes = plt.subplots(1, 4, figsize=(14, 4))\n",
        "\n",
        "axes[0].plot(rating_df['Rating'], rating_df['Reviews'], 'r')\n",
        "axes[0].set_xlabel('Rating')\n",
        "axes[0].set_ylabel('Reviews')\n",
        "axes[0].set_title('Reviews Per Rating')\n",
        "\n",
        "axes[1].plot(rating_df['Rating'], rating_df['Size'], 'g')\n",
        "axes[1].set_xlabel('Rating')\n",
        "axes[1].set_ylabel('Size')\n",
        "axes[1].set_title('Size Per Rating')\n",
        "\n",
        "axes[2].plot(rating_df['Rating'], rating_df['Installs'], 'g')\n",
        "axes[2].set_xlabel('Rating')\n",
        "axes[2].set_ylabel('Installs (e+10)')\n",
        "axes[2].set_title('Installs Per Rating')\n",
        "\n",
        "axes[3].plot(rating_df['Rating'], rating_df['Price'], 'k')\n",
        "axes[3].set_xlabel('Rating')\n",
        "axes[3].set_ylabel('Price')\n",
        "axes[3].set_title('Price Per Rating')\n",
        "\n",
        "plt.tight_layout(pad=2)\n",
        "plt.show()"
      ],
      "metadata": {
        "id": "dlG1RMyC_AsZ"
      },
      "execution_count": null,
      "outputs": []
    },
    {
      "cell_type": "markdown",
      "source": [
        "From the above plottings, we can imply that most of the apps with higher rating range of 4.0 - 4.7 are having high amount of reviews, size, and installs. In terms of price, it doesn't reflect a direct relationship with rating, as we could see a fluctuation in term of pricing even at the range of high rating."
      ],
      "metadata": {
        "id": "-c4LYCuc_F4k"
      }
    },
    {
      "cell_type": "markdown",
      "source": [
        "APPLICATION TYPE"
      ],
      "metadata": {
        "id": "H50z2027yAJV"
      }
    },
    {
      "cell_type": "code",
      "source": [
        "# application type distribution\n",
        "plt.figure(figsize=(10, 5))\n",
        "sns.countplot(apps_df['Type'])\n",
        "plt.title('Type Distribution')\n",
        "plt.ylabel('Number of Apps')\n",
        "plt.show()"
      ],
      "metadata": {
        "id": "37dFi4JVyECn"
      },
      "execution_count": null,
      "outputs": []
    },
    {
      "cell_type": "markdown",
      "source": [
        "From the plot we can imply that majority of the apps in the Play Store are Free apps."
      ],
      "metadata": {
        "id": "6A_Fc7TczQ0n"
      }
    },
    {
      "cell_type": "code",
      "source": [
        "# show the distribution of apps in term of their rating, size and type\n",
        "plt.figure(figsize=(12, 6))\n",
        "sns.scatterplot(apps_df['Size'],\n",
        "               apps_df['Rating'],\n",
        "               hue=apps_df['Type'],\n",
        "               s=50)\n"
      ],
      "metadata": {
        "id": "_VfIZhHpzVbf"
      },
      "execution_count": null,
      "outputs": []
    },
    {
      "cell_type": "code",
      "source": [
        "<matplotlib.axes._subplots.AxesSubplot at 0x7f0b7b0fb590>"
      ],
      "metadata": {
        "id": "UnxZ_sdXzaLp"
      },
      "execution_count": null,
      "outputs": []
    },
    {
      "cell_type": "markdown",
      "source": [
        "From this scatter plot, we can imply that majority of the free apps are small in size and having high rating. While for paid apps, we have quite equal distribution in term on size and rating."
      ],
      "metadata": {
        "id": "cAFIjvh8zdTw"
      }
    },
    {
      "cell_type": "code",
      "source": [
        "# correlation\n",
        "apps_df.corr()"
      ],
      "metadata": {
        "id": "ui804bRhzgCw"
      },
      "execution_count": null,
      "outputs": []
    },
    {
      "cell_type": "code",
      "source": [
        "fig, axes = plt.subplots(figsize=(8, 8))\n",
        "sns.heatmap(apps_df.corr(), ax=axes, annot=True, linewidths=0.1, fmt='.2f', square=True)\n",
        "plt.show()"
      ],
      "metadata": {
        "id": "xaVe5MylzjDp"
      },
      "execution_count": null,
      "outputs": []
    },
    {
      "cell_type": "markdown",
      "source": [
        "Histogram of log installs"
      ],
      "metadata": {
        "id": "3VxyS-4fNpXf"
      }
    },
    {
      "cell_type": "code",
      "source": [
        "google_playstore_df.loc[google_playstore_df['log_installs']==google_playstore_df['log_installs'].min(),'log_installs']=0"
      ],
      "metadata": {
        "id": "XNPHLl0hNt8L"
      },
      "execution_count": null,
      "outputs": []
    },
    {
      "cell_type": "code",
      "source": [
        "plt.xlabel(\"Log of Installs\")\n",
        "plt.title(\"Distribution of Logrithm of Installs(base10)\")\n",
        "plt.hist(google_playstore_df['log_installs']);"
      ],
      "metadata": {
        "id": "-XSjaINGNxe-"
      },
      "execution_count": null,
      "outputs": []
    },
    {
      "cell_type": "markdown",
      "source": [
        "Histogram of size"
      ],
      "metadata": {
        "id": "hA-FGr0TN7Td"
      }
    },
    {
      "cell_type": "code",
      "source": [
        "# to remove null values from size column\n",
        "google_playstore_df.loc[google_playstore_df['Size'].isnull(),'Size']=0"
      ],
      "metadata": {
        "id": "lYDeztXjN8dp"
      },
      "execution_count": null,
      "outputs": []
    },
    {
      "cell_type": "code",
      "source": [
        "plt.xlabel(\"Size\")\n",
        "plt.title(\"Distribution of Size\")\n",
        "plt.hist(google_playstore_df['Size']);\n",
        "plt.show()"
      ],
      "metadata": {
        "id": "NolHatqAN-_D"
      },
      "execution_count": null,
      "outputs": []
    },
    {
      "cell_type": "markdown",
      "source": [
        "From the above histogram, it can be concluded that maximum number of applications present in the dataset are of small size."
      ],
      "metadata": {
        "id": "zsm7VN_BPoLy"
      }
    },
    {
      "cell_type": "code",
      "source": [
        "user_reviews_df = pd.read_csv('google-play-store-apps/googleplaystore_user_reviews.csv')"
      ],
      "metadata": {
        "id": "aVqhBTOJPrID"
      },
      "execution_count": null,
      "outputs": []
    },
    {
      "cell_type": "markdown",
      "source": [
        "Merging dataframes on apps"
      ],
      "metadata": {
        "id": "YsL84axtPuji"
      }
    },
    {
      "cell_type": "code",
      "source": [
        "merged_df = google_playstore_df.merge(user_reviews_df, on=\"App\")"
      ],
      "metadata": {
        "id": "xh9QYNbnPvx2"
      },
      "execution_count": null,
      "outputs": []
    },
    {
      "cell_type": "markdown",
      "source": [
        "n the merged dataframe, we have three new columns i.e.. Sentiment, Sentiment Polarity and Sentiment Subjectivity. Sentiment basically determines the attitude or the emotion of the writer, i.e., whether it is positive or negative or neutral. Sentiment Polarity is float which lies in the range of [-1,1] where 1 means positive statement and -1 means a negative statement. Sentiment Subjectivity generally refer to personal opinion, emotion or judgment, which lies in the range of [0,1]."
      ],
      "metadata": {
        "id": "4azLVi_rP0Mt"
      }
    },
    {
      "cell_type": "markdown",
      "source": [
        "What is the distribution of type of reviews in the dataset?"
      ],
      "metadata": {
        "id": "tPOzQzf7QIqp"
      }
    },
    {
      "cell_type": "code",
      "source": [
        "category_sentiment = merged_df.groupby(['Category','Sentiment']).size().reset_index(name='Sentiment Count')"
      ],
      "metadata": {
        "id": "SwTYkFEnQLnu"
      },
      "execution_count": null,
      "outputs": []
    },
    {
      "cell_type": "code",
      "source": [
        "category_sentiment['log_sentiment_count'] = np.log2(category_sentiment['Sentiment Count'])"
      ],
      "metadata": {
        "id": "t4kKYTD_QODp"
      },
      "execution_count": null,
      "outputs": []
    },
    {
      "cell_type": "code",
      "source": [
        "plt.figure(figsize=(18,9))\n",
        "plt.xticks(rotation=90,fontsize=11)\n",
        "plt.xlabel(\"Category\", fontsize=15)\n",
        "plt.ylabel(\"Installs\", fontsize=15)\n",
        "plt.title(\"Number of installs type wise according to Genres\",fontsize=15)\n",
        "sns.barplot('Category', 'log_sentiment_count', hue='Sentiment', data=category_sentiment);"
      ],
      "metadata": {
        "id": "3aU45eAIQSWG"
      },
      "execution_count": null,
      "outputs": []
    },
    {
      "cell_type": "markdown",
      "source": [
        "### Histogram of subjectivity"
      ],
      "metadata": {
        "id": "yxeMtfJFIk34"
      }
    },
    {
      "cell_type": "code",
      "source": [
        "plt.figure(figsize=(18,9))\n",
        "plt.xlabel(\"Subjectivity\")\n",
        "plt.title(\"Distribution of Subjectivity\")\n",
        "plt.hist(merged_df[merged_df['Sentiment_Subjectivity'].notnull()]['Sentiment_Subjectivity'])\n",
        "plt.show()"
      ],
      "metadata": {
        "id": "FbKw18aDJP1y"
      },
      "execution_count": null,
      "outputs": []
    },
    {
      "cell_type": "markdown",
      "source": [
        "#### It can be seen that maximum number of sentiment subjectivity lies between 0.4 to 0.7. From this we can conclude that macimum number of users give reviews to the applications, according to their experience."
      ],
      "metadata": {
        "id": "L-yzbWF3JVmX"
      }
    },
    {
      "cell_type": "markdown",
      "source": [
        "### Does sentiment_subjectivity proportional to sentiment_polarity?"
      ],
      "metadata": {
        "id": "_DNCLrqgJsWe"
      }
    },
    {
      "cell_type": "code",
      "source": [
        "sentimet_subjectivity_polarity = merged_df.groupby(['Category'])['Sentiment_Polarity','Sentiment_Subjectivity'].mean().reset_index().rename(columns={'Sentiment_Polarity':'Sentiment_polarity_avg','Sentiment_Subjectivity':'sentiment_subjectivity_avg'})"
      ],
      "metadata": {
        "id": "dq98JyLzJttx"
      },
      "execution_count": null,
      "outputs": []
    },
    {
      "cell_type": "code",
      "source": [
        "merged_df['Sentiment_Polarity'] = merged_df['Sentiment_Polarity'].abs()"
      ],
      "metadata": {
        "id": "QwuHhpSUKp3C"
      },
      "execution_count": null,
      "outputs": []
    },
    {
      "cell_type": "code",
      "source": [
        "plt.figure(figsize=(14,7))\n",
        "sns.scatterplot(merged_df['Sentiment_Subjectivity'], merged_df['Sentiment_Polarity'])\n",
        "plt.title(\"Does sentiment_subjectivity proportional to sentiment_polarity\")\n",
        "plt.show()"
      ],
      "metadata": {
        "id": "2YDrXhoWKnT_"
      },
      "execution_count": null,
      "outputs": []
    },
    {
      "cell_type": "markdown",
      "source": [
        "#### From the above scatter plot it can be concluded that sentiment subjectivity is not always proportional to sentiment polarity but in maximum number of case, shows a proportional behavior, when variance is too high or low"
      ],
      "metadata": {
        "id": "v6ixUFpuKuj2"
      }
    },
    {
      "cell_type": "markdown",
      "source": [
        "### Percentage of Review Sentiments"
      ],
      "metadata": {
        "id": "6N9zb4bTMr9z"
      }
    },
    {
      "cell_type": "code",
      "source": [
        "import matplotlib\n",
        "counts = list(merged_df['Sentiment'].value_counts())\n",
        "labels = 'Positive Reviews', 'Negetive Reviews','Neutral Reviews'\n",
        "matplotlib.rcParams['font.size'] = 12\n",
        "matplotlib.rcParams['figure.figsize'] = (8, 8)\n",
        "plt.pie(counts, labels=labels, explode=[0, 0.05, 0.005], shadow=True, autopct=\"%.2f%%\")\n",
        "plt.title('A Pie Chart Representing Percentage of Review Sentiments', fontsize=20)\n",
        "plt.axis('off')\n",
        "plt.legend()\n",
        "plt.show()\n"
      ],
      "metadata": {
        "id": "qEjzit4OMuVu"
      },
      "execution_count": null,
      "outputs": []
    }
  ]
}