{
  "nbformat": 4,
  "nbformat_minor": 0,
  "metadata": {
    "kernelspec": {
      "display_name": "Python 3",
      "language": "python",
      "name": "python3"
    },
    "language_info": {
      "codemirror_mode": {
        "name": "ipython",
        "version": 3
      },
      "file_extension": ".py",
      "mimetype": "text/x-python",
      "name": "python",
      "nbconvert_exporter": "python",
      "pygments_lexer": "ipython3",
      "version": "3.6.6"
    },
    "colab": {
      "name": "Solutionof Play Store App Review Analysis - Capstone Project.ipynb",
      "provenance": [],
      "include_colab_link": true
    }
  },
  "cells": [
    {
      "cell_type": "markdown",
      "metadata": {
        "id": "view-in-github",
        "colab_type": "text"
      },
      "source": [
        "<a href=\"https://colab.research.google.com/github/tnatani/playtore-app-review-analysis/blob/main/Solutionof_Play_Store_App_Review_Analysis_Capstone_Project.ipynb\" target=\"_parent\"><img src=\"https://colab.research.google.com/assets/colab-badge.svg\" alt=\"Open In Colab\"/></a>"
      ]
    },
    {
      "cell_type": "markdown",
      "metadata": {
        "id": "Y06xIdG26kRF"
      },
      "source": [
        "## <b> The Play Store apps data has enormous potential to drive app-making businesses to success. Actionable insights can be drawn for developers to work on and capture the Android market. </b>\n",
        "\n",
        "## <b> Each app (row) has values for catergory, rating, size, and more. Another dataset contains customer reviews of the android apps.</b>\n",
        "\n",
        "## <b> Explore and analyze the data to discover key factors responsible for app engagement and success. </b>"
      ]
    },
    {
      "cell_type": "markdown",
      "source": [
        "INTRODUCTION\n",
        "\n",
        "Google Play Store or formerly Android Market, is a digital distribution service developed and operated by Google. It is an official apps store that provides variety content such as apps, books, magazines, music, movies and television programs. It serves an as platform to allow users with 'Google certified' Android operating system devices to donwload applications developed and published on the platform either with a charge or free of cost. With the rapidly growth of Android devices and apps, it would be interesting to perform data analysis on the data to obtain valuable insights.\n",
        "The tools that are going to be used for this EDA would be numpy, pandas, matplotlib and seaborn which I have learnt from the course."
      ],
      "metadata": {
        "id": "4VnDzLiJd9h_"
      }
    },
    {
      "cell_type": "markdown",
      "source": [
        "DATA PREPARATION AND CLEANING \n",
        "\n",
        "In this section, we will be loading the Google Store Apps data stored in csv using pandas which is a fast and powerful python library for data analysis and easy data manipulation in pandas DataFrame object. It is usually used for working with tabular data (e.g data in spreadsheet) in various formats such as CSV, Excel spreadsheets, HTML tables, JSON etc. We will then perform some data preparation and also cleaning on it."
      ],
      "metadata": {
        "id": "y9TXUKuCeoxa"
      }
    },
    {
      "cell_type": "code",
      "metadata": {
        "id": "dByMsuzT8Tnw"
      },
      "source": [
        "# import the necessary libraries\n",
        "import numpy as np\n",
        "import pandas as pd\n",
        "import matplotlib.pyplot as plt\n",
        "import seaborn as sns\n",
        "%matplotlib inline "
      ],
      "execution_count": null,
      "outputs": []
    },
    {
      "cell_type": "code",
      "source": [
        "from google.colab import drive\n",
        "drive.mount('/content/drive')"
      ],
      "metadata": {
        "colab": {
          "base_uri": "https://localhost:8080/"
        },
        "id": "GcbdRFXthyRe",
        "outputId": "ffeb1004-f770-464e-c48e-0f761f4bbedf"
      },
      "execution_count": null,
      "outputs": [
        {
          "output_type": "stream",
          "name": "stdout",
          "text": [
            "Mounted at /content/drive\n"
          ]
        }
      ]
    },
    {
      "cell_type": "code",
      "source": [
        "# load the apps and reviews data into pandas dataframe\n",
        "apps_df = pd.read_csv('Mydrive/Almabetter')"
      ],
      "metadata": {
        "id": "ZMSUVXKriRJk"
      },
      "execution_count": null,
      "outputs": []
    },
    {
      "cell_type": "code",
      "source": [
        "# look at the first 10 records in the apps dataframe\n",
        "apps_df.head(10)"
      ],
      "metadata": {
        "id": "METXjo8MkAj-"
      },
      "execution_count": null,
      "outputs": []
    },
    {
      "cell_type": "code",
      "source": [
        "# look at the random 10 records in the apps dataframe\n",
        "apps_df.sample(10)"
      ],
      "metadata": {
        "id": "uTHEt_A9kGzR"
      },
      "execution_count": null,
      "outputs": []
    },
    {
      "cell_type": "markdown",
      "source": [
        "DESCRIPTION OF APP DATASET COLUMNS\n",
        "\n",
        "1.App : The name of the app\n",
        "\n",
        "2.Category : The category of the app\n",
        "\n",
        "3.Rating : The rating of the app in the Play Store\n",
        "\n",
        "4.Reviews : The number of reviews of the app\n",
        "\n",
        "5.Size : The size of the app\n",
        "\n",
        "6.Install : The number of installs of the app\n",
        "\n",
        "7.Type : The type of the app (Free/Paid)\n",
        "\n",
        "8.The price of the app (0 if it is Free)\n",
        "\n",
        "9.Content Rating :The appropiate target audience of the app\n",
        "\n",
        "10.Genres: The genre of the app\n",
        "\n",
        "11.Last Updated : The date when the app was last updated\n",
        "\n",
        "12.Current Ver : The current version of the app\n",
        "\n",
        "13.Android Ver : The minimum Android version required to run the app\n"
      ],
      "metadata": {
        "id": "-G7tRu_ykmMn"
      }
    },
    {
      "cell_type": "code",
      "source": [
        "# type of Category\n",
        "apps_df['Category'].unique()"
      ],
      "metadata": {
        "id": "zegB6nA7kx04"
      },
      "execution_count": null,
      "outputs": []
    },
    {
      "cell_type": "code",
      "source": [
        "# type of Type\n",
        "apps_df['Type'].unique()"
      ],
      "metadata": {
        "id": "U7aCyssACS6D"
      },
      "execution_count": null,
      "outputs": []
    },
    {
      "cell_type": "code",
      "source": [
        "# type of Content Rating\n",
        "apps_df['Content Rating'].unique()"
      ],
      "metadata": {
        "id": "Wa0pHiSOCcV2"
      },
      "execution_count": null,
      "outputs": []
    },
    {
      "cell_type": "code",
      "source": [
        "# type of Genres\n",
        "apps_df['Genres'].unique()"
      ],
      "metadata": {
        "id": "PhqoqK7JCdCd"
      },
      "execution_count": null,
      "outputs": []
    },
    {
      "cell_type": "code",
      "source": [
        "# look at the info of the dataframe\n",
        "apps_df.info()"
      ],
      "metadata": {
        "id": "AFQMhsG5CxS3"
      },
      "execution_count": null,
      "outputs": []
    },
    {
      "cell_type": "markdown",
      "source": [
        "By diagnosing the data frame, we know that:\n",
        "\n",
        "1.There are 13 columns of properties with 10841 rows of data.\n",
        "\n",
        "2.Column 'Reviews', 'Size', 'Installs' and 'Price' are in the type of 'object'\n",
        "\n",
        "3.Values of column 'Size' are strings representing size in 'M' as Megabytes, 'k' as kilobytes and also 'Varies with devices'.\n",
        "\n",
        "4.Values of column 'Installs' are strings representing install amount with symbols such as ',' and '+'.\n",
        "\n",
        "5.Values of column 'Price' are strings representing price with symbol '$'.Hence, we will need to do some data cleaning."
      ],
      "metadata": {
        "id": "8LPPw-yUC32R"
      }
    },
    {
      "cell_type": "markdown",
      "source": [
        "Some Data Cleaning"
      ],
      "metadata": {
        "id": "x1Oqy6REsIsX"
      }
    },
    {
      "cell_type": "code",
      "source": [
        "# 1) clean the 'Reviews' data and change the type 'object' to 'float'\n",
        "reviews = [i for i in apps_df['Reviews']]\n",
        "\n",
        "def clean_reviews(reviews_list):\n",
        "    \"\"\"\n",
        "    As 'M' has been found the in reviews data, this function\n",
        "    replace it with million\n",
        "    \"\"\"\n",
        "    cleaned_data = []\n",
        "    for review in reviews_list:\n",
        "        if 'M' in review:\n",
        "            review = review.replace('M', '')\n",
        "            review = float(review) * 1000000  # 1M = 1,000,000\n",
        "        cleaned_data.append(review)\n",
        "    return cleaned_data\n",
        "\n",
        "apps_df['Reviews'] = clean_reviews(reviews)\n",
        "apps_df['Reviews'] = apps_df['Reviews'].astype(float)"
      ],
      "metadata": {
        "id": "h9_MKMjZsM2s"
      },
      "execution_count": null,
      "outputs": []
    },
    {
      "cell_type": "code",
      "source": [
        "# 2) clean the 'Size' data and change the type 'object' to 'float'\n",
        "\n",
        "# found value with '1,000+' in one of record, remove it from data_frame as uncertain whether it is 'M' or 'k'\n",
        "index = apps_df[apps_df['Size'] == '1,000+'].index\n",
        "apps_df.drop(axis=0, inplace=True, index=index)\n",
        "\n",
        "sizes = [i for i in apps_df['Size']]\n",
        "\n",
        "def clean_sizes(sizes_list):\n",
        "    \"\"\"\n",
        "    As sizes are represented in 'M' and 'k', we remove 'M'\n",
        "    and convert 'k'/kilobytes into megabytes\n",
        "    \"\"\"\n",
        "    cleaned_data = []\n",
        "    for size in sizes_list:\n",
        "        if 'M' in size:\n",
        "            size = size.replace('M', '')\n",
        "            size = float(size)\n",
        "        elif 'k' in size:\n",
        "            size = size.replace('k', '')\n",
        "            size = float(size)\n",
        "            size = size/1024  # 1 megabyte = 1024 kilobytes\n",
        "        # representing 'Varies with device' with value 0\n",
        "        elif 'Varies with device' in size:\n",
        "            size = float(0)\n",
        "        cleaned_data.append(size)\n",
        "    return cleaned_data\n",
        "\n",
        "apps_df['Size'] = clean_sizes(sizes)\n",
        "apps_df['Size'] = apps_df['Size'].astype(float)"
      ],
      "metadata": {
        "id": "jkBBu2JNtRw9"
      },
      "execution_count": null,
      "outputs": []
    },
    {
      "cell_type": "code",
      "source": [
        "# 3) clean the 'Installs' data and change the type 'object' to 'float'\n",
        "installs = [i for i in apps_df['Installs']]\n",
        "\n",
        "def clean_installs(installs_list):\n",
        "    cleaned_data = []\n",
        "    for install in installs_list:\n",
        "        if ',' in install:\n",
        "            install = install.replace(',', '')\n",
        "        if '+' in install:\n",
        "            install = install.replace('+', '')\n",
        "        install = int(install)\n",
        "        cleaned_data.append(install)\n",
        "    return cleaned_data\n",
        "        \n",
        "apps_df['Installs'] = clean_installs(installs)\n",
        "apps_df['Installs'] = apps_df['Installs'].astype(float)"
      ],
      "metadata": {
        "id": "LnuUwTBXuM1O"
      },
      "execution_count": null,
      "outputs": []
    },
    {
      "cell_type": "code",
      "source": [
        "# 4) clean the 'Price' data and change the type 'object' to 'float'\n",
        "prices = [i for i in apps_df['Price']]\n",
        "\n",
        "def clean_prices(prices_list):\n",
        "    cleaned_data = []\n",
        "    for price in prices_list:\n",
        "        if '$' in price:\n",
        "            price = price.replace('$', '')\n",
        "        cleaned_data.append(price)\n",
        "    return cleaned_data\n",
        "\n",
        "apps_df['Price'] = clean_prices(prices)\n",
        "apps_df['Price'] = apps_df['Price'].astype(float)"
      ],
      "metadata": {
        "id": "ISCwbaZxuN1D"
      },
      "execution_count": null,
      "outputs": []
    },
    {
      "cell_type": "code",
      "source": [
        "# look at the random 10 records in the apps dataframe to verify the cleaned columns\n",
        "apps_df.sample(10)"
      ],
      "metadata": {
        "id": "yk6RKD6MuRQH"
      },
      "execution_count": null,
      "outputs": []
    },
    {
      "cell_type": "code",
      "source": [
        "# check on null values\n",
        "apps_df.isna().sum()"
      ],
      "metadata": {
        "id": "1l83noeLuas4"
      },
      "execution_count": null,
      "outputs": []
    },
    {
      "cell_type": "code",
      "source": [
        "# grouping the data starting with App and Reviews\n",
        "apps_df = apps_df.groupby(['App', 'Reviews', 'Category', 'Rating', 'Size', 'Installs', 'Type', 'Price', 'Content Rating', 'Genres', \n",
        "                           'Last Updated', 'Current Ver', 'Android Ver'], as_index=False)\n",
        "# reassign Installs values with their mean\n",
        "apps_df = apps_df['Installs'].mean()\n",
        "# sort the dataframe by Reviews descendingly\n",
        "apps_df.sort_values(by='Reviews', ascending=False, inplace=True)\n",
        "# drop duplicate rows based on App \n",
        "apps_df.drop_duplicates(subset=['App'], inplace=True)\n",
        "apps_df"
      ],
      "metadata": {
        "id": "X9c6CAFtud4Q"
      },
      "execution_count": null,
      "outputs": []
    },
    {
      "cell_type": "code",
      "source": [
        "# check on statistical information of the dataframe\n",
        "apps_df.describe()"
      ],
      "metadata": {
        "id": "l08TX6GGyMra"
      },
      "execution_count": null,
      "outputs": []
    }
  ]
}